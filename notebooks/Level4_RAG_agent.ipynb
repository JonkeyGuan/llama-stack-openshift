{
 "cells": [
  {
   "cell_type": "markdown",
   "id": "45fc9086-93aa-4645-8ba2-380c3acbbed9",
   "metadata": {},
   "source": [
    "# Level 4: RAG Agent\n",
    "\n",
    "This notebook presents an example of executing queries with a RAG agent in Llama Stack. It shows how to initialize an agent with the RAG tool provided by Llama Stack and to invoke it such that retrieval from a vector DB is activated only when necessary. The notebook also covers document ingestion using the RAG tool.\n",
    "\n",
    "For a simple (non-agentic) RAG tutorial, please refer to [Level1_simple_RAG.ipynb](./Level1_simple_RAG.ipynb).\n",
    "\n",
    "## Overview\n",
    "\n",
    "This notebook covers the following steps:\n",
    "\n",
    "1. Connecting to a llama stack server.\n",
    "2. Indexing a collection of documents into a vector DB for later retrieval.\n",
    "3. Initializing the agent capable of retrieving content from vector DB via tool use.\n",
    "4. Launching the agent and using it to answer user queries about the documents.\n",
    "\n",
    "\n",
    "## Prerequisites\n",
    "\n",
    "Before starting, ensure you have the following:\n",
    "- Followed the instructions in the [Setup Guide](./Level0_getting_started_with_Llama_Stack.ipynb) notebook. \n",
    "- Llama Stack server should be using milvus as its vector DB provider.\n"
   ]
  },
  {
   "cell_type": "markdown",
   "id": "6db34e4b-ed29-4007-b760-59543d4caca1",
   "metadata": {},
   "source": [
    "## 1. Setting Up this Notebook\n",
    "We will start with a few imports needed for this demo only."
   ]
  },
  {
   "cell_type": "code",
   "execution_count": 1,
   "id": "854e7cb4-aed9-4098-adc1-a66f4c9e6ce3",
   "metadata": {
    "tags": []
   },
   "outputs": [],
   "source": [
    "import uuid\n",
    "\n",
    "from llama_stack_client import Agent, RAGDocument\n",
    "from llama_stack_client.lib.agents.event_logger import EventLogger"
   ]
  },
  {
   "cell_type": "markdown",
   "id": "a9ab4244-e7af-405b-b0c3-4bf00411f26e",
   "metadata": {},
   "source": [
    "Next, we will initialize our environment as described in detail in our [\"Getting Started\" notebook](./Level0_getting_started_with_Llama_Stack.ipynb). Please refer to it for additional explanations."
   ]
  },
  {
   "cell_type": "code",
   "execution_count": 6,
   "id": "9b87b139-bd18-47b2-889a-1b8ed3018655",
   "metadata": {},
   "outputs": [
    {
     "name": "stdout",
     "output_type": "stream",
     "text": [
      "Connected to Llama Stack server\n",
      "Inference Parameters:\n",
      "\tModel: qwen\n",
      "\tSampling Parameters: {'strategy': {'type': 'greedy'}, 'max_tokens': 2048}\n",
      "\tstream: False\n"
     ]
    }
   ],
   "source": [
    "# for accessing the environment variables\n",
    "import os\n",
    "from dotenv import load_dotenv\n",
    "load_dotenv()\n",
    "\n",
    "# for communication with Llama Stack\n",
    "from llama_stack_client import LlamaStackClient\n",
    "\n",
    "# pretty print of the results returned from the model/agent\n",
    "import sys\n",
    "sys.path.append('..')  \n",
    "from src.utils import step_printer\n",
    "from termcolor import cprint\n",
    "\n",
    "base_url = os.getenv(\"REMOTE_BASE_URL\")\n",
    "\n",
    "\n",
    "# Tavily search API key is required for some of our demos and must be provided to the client upon initialization.\n",
    "# We will cover it in the agentic demos that use the respective tool. Please ignore this parameter for all other demos.\n",
    "tavily_search_api_key = os.getenv(\"TAVILY_SEARCH_API_KEY\")\n",
    "if tavily_search_api_key is None:\n",
    "    provider_data = None\n",
    "else:\n",
    "    provider_data = {\"tavily_search_api_key\": tavily_search_api_key}\n",
    "\n",
    "\n",
    "client = LlamaStackClient(\n",
    "    base_url=base_url,\n",
    "    provider_data=provider_data\n",
    ")\n",
    "    \n",
    "print(f\"Connected to Llama Stack server\")\n",
    "\n",
    "# model_id for the model you wish to use that is configured with the Llama Stack server\n",
    "# model_id = \"granite\"\n",
    "model_id = \"qwen\"\n",
    "\n",
    "temperature = float(os.getenv(\"TEMPERATURE\", 0.0))\n",
    "if temperature > 0.0:\n",
    "    top_p = float(os.getenv(\"TOP_P\", 0.95))\n",
    "    strategy = {\"type\": \"top_p\", \"temperature\": temperature, \"top_p\": top_p}\n",
    "else:\n",
    "    strategy = {\"type\": \"greedy\"}\n",
    "\n",
    "max_tokens = int(os.getenv(\"MAX_TOKENS\", 4096))\n",
    "\n",
    "# sampling_params will later be used to pass the parameters to Llama Stack Agents/Inference APIs\n",
    "sampling_params = {\n",
    "    \"strategy\": strategy,\n",
    "    \"max_tokens\": max_tokens,\n",
    "}\n",
    "\n",
    "stream_env = os.getenv(\"STREAM\", \"False\")\n",
    "# the Boolean 'stream' parameter will later be passed to Llama Stack Agents/Inference APIs\n",
    "# any value non equal to 'False' will be considered as 'True'\n",
    "stream = (stream_env != \"False\")\n",
    "\n",
    "print(f\"Inference Parameters:\\n\\tModel: {model_id}\\n\\tSampling Parameters: {sampling_params}\\n\\tstream: {stream}\")"
   ]
  },
  {
   "cell_type": "markdown",
   "id": "357655b5-cade-46f4-9f57-be5dcef9abc2",
   "metadata": {},
   "source": [
    "Finally, we will create a unique name for the document collection to be used for RAG ingestion and retrieval."
   ]
  },
  {
   "cell_type": "code",
   "execution_count": 7,
   "id": "583421f3-5c77-4964-b525-12f967c20816",
   "metadata": {},
   "outputs": [],
   "source": [
    "vector_db_id = f\"test_vector_db_{uuid.uuid4()}\""
   ]
  },
  {
   "cell_type": "markdown",
   "id": "9203de51-f570-44ab-8130-36333a54888b",
   "metadata": {},
   "source": [
    "## 2. Indexing the Documents\n",
    "- Initialize a new document collection in the target vector DB. All parameters related to the vector DB, such as the embedding model and dimension, must be specified here.\n",
    "- Provide a list of document URLs to the RAG tool. Llama Stack will handle the fetching, conversion and chunking of the documents' content automatically."
   ]
  },
  {
   "cell_type": "code",
   "execution_count": 8,
   "id": "2dd4664a-ff7f-4474-b6af-3a4ad3f73052",
   "metadata": {
    "tags": []
   },
   "outputs": [
    {
     "name": "stderr",
     "output_type": "stream",
     "text": [
      "INFO:httpx:HTTP Request: POST http://llamastack:8321/v1/vector-dbs \"HTTP/1.1 200 OK\"\n",
      "INFO:httpx:HTTP Request: POST http://llamastack:8321/v1/tool-runtime/rag-tool/insert \"HTTP/1.1 200 OK\"\n"
     ]
    }
   ],
   "source": [
    "# define and register the document collection to be used\n",
    "client.vector_dbs.register(\n",
    "    vector_db_id=vector_db_id,\n",
    "    embedding_model=os.getenv(\"VDB_EMBEDDING\"),\n",
    "    embedding_dimension=int(os.getenv(\"VDB_EMBEDDING_DIMENSION\", 384)),\n",
    "    provider_id=os.getenv(\"VDB_PROVIDER\"),\n",
    ")\n",
    "\n",
    "# ingest the documents into the newly created document collection\n",
    "urls = [\n",
    "    (\"https://www.openshift.guide/openshift-guide-screen.pdf\", \"application/pdf\"),\n",
    "]\n",
    "documents = [\n",
    "    RAGDocument(\n",
    "        document_id=f\"num-{i}\",\n",
    "        content=url,\n",
    "        mime_type=url_type,\n",
    "        metadata={},\n",
    "    )\n",
    "    for i, (url, url_type) in enumerate(urls)\n",
    "]\n",
    "client.tool_runtime.rag_tool.insert(\n",
    "    documents=documents,\n",
    "    vector_db_id=vector_db_id,\n",
    "    chunk_size_in_tokens=int(os.getenv(\"VECTOR_DB_CHUNK_SIZE\", 512)),\n",
    ")"
   ]
  },
  {
   "cell_type": "markdown",
   "id": "d5639413-90d6-42ae-add4-6c89da0297e2",
   "metadata": {},
   "source": [
    "## 3. Executing queries via the RAG agent\n",
    "- Initialize an agent with a list of tools including the built-in RAG tool. The RAG tool specification must include a list of document collection IDs to retrieve from.\n",
    "- For each prompt, initialize a new agent session, execute a turn during which a retrieval call may be requested, and output the reply received from the agent."
   ]
  },
  {
   "cell_type": "code",
   "execution_count": 9,
   "id": "95b9baa2-4739-426a-b79a-2ff90f44c023",
   "metadata": {
    "tags": []
   },
   "outputs": [
    {
     "name": "stderr",
     "output_type": "stream",
     "text": [
      "INFO:httpx:HTTP Request: POST http://llamastack:8321/v1/agents \"HTTP/1.1 200 OK\"\n",
      "INFO:httpx:HTTP Request: GET http://llamastack:8321/v1/tools?toolgroup_id=builtin%3A%3Arag \"HTTP/1.1 200 OK\"\n",
      "INFO:httpx:HTTP Request: POST http://llamastack:8321/v1/agents/21ec7859-4760-45dc-a01d-168fa51fb59b/session \"HTTP/1.1 200 OK\"\n",
      "INFO:httpx:HTTP Request: POST http://llamastack:8321/v1/agents/21ec7859-4760-45dc-a01d-168fa51fb59b/session/8a72fe1c-14c0-4356-b458-60f4916a6d1b/turn \"HTTP/1.1 200 OK\"\n"
     ]
    },
    {
     "name": "stdout",
     "output_type": "stream",
     "text": [
      "\u001b[34m\n",
      "User> How to install OpenShift?\u001b[0m\n",
      "\n",
      "---------- 📍 Step 1: InferenceStep ----------\n",
      "🛠️ Tool call Generated:\n",
      "\u001b[35mTool call: knowledge_search, Arguments: {'query': 'How to install OpenShift'}\u001b[0m\n",
      "\n",
      "---------- 📍 Step 2: ToolExecutionStep ----------\n",
      "🔧 Executing tool...\n"
     ]
    },
    {
     "data": {
      "text/html": [
       "<pre style=\"white-space:pre;overflow-x:auto;line-height:normal;font-family:Menlo,'DejaVu Sans Mono',consolas,'Courier New',monospace\"><span style=\"font-weight: bold\">[</span>\n",
       "<span style=\"color: #7fbf7f; text-decoration-color: #7fbf7f\">│   </span><span style=\"color: #800080; text-decoration-color: #800080; font-weight: bold\">TextContentItem</span><span style=\"font-weight: bold\">(</span>\n",
       "<span style=\"color: #7fbf7f; text-decoration-color: #7fbf7f\">│   │   </span><span style=\"color: #808000; text-decoration-color: #808000\">text</span>=<span style=\"color: #008000; text-decoration-color: #008000\">'knowledge_search tool found 5 chunks:\\nBEGIN of knowledge_search tool results.\\n'</span>,\n",
       "<span style=\"color: #7fbf7f; text-decoration-color: #7fbf7f\">│   │   </span><span style=\"color: #808000; text-decoration-color: #808000\">type</span>=<span style=\"color: #008000; text-decoration-color: #008000\">'text'</span>\n",
       "<span style=\"color: #7fbf7f; text-decoration-color: #7fbf7f\">│   </span><span style=\"font-weight: bold\">)</span>,\n",
       "<span style=\"color: #7fbf7f; text-decoration-color: #7fbf7f\">│   </span><span style=\"color: #800080; text-decoration-color: #800080; font-weight: bold\">TextContentItem</span><span style=\"font-weight: bold\">(</span>\n",
       "<span style=\"color: #7fbf7f; text-decoration-color: #7fbf7f\">│   │   </span><span style=\"color: #808000; text-decoration-color: #808000\">text</span>=<span style=\"color: #008000; text-decoration-color: #008000\">'Result 1\\nContent:  \"Import from Git\" entry. Click on it, and paste the URL of a project, for example,\\ngitlab.com/akosma/simple-deno-api.git.\\nAs soon as you paste the URL, OpenShift will immediately analyze the structure and programming\\nlanguage of the project and automatically recommend options for its build process. In our case, it’s\\na small application built with the Go programming language, and as such, it will advise the options\\nshown on the screen.\\nFigure 5. Deploying a project directly from its Git repository\\n25\\nThis particular example doesn’t require more configurations than the ones shown on the screen;\\nclick the [\\u2009Create\\u2009] button.\\nAfter a few seconds, you will see your application running on the \"Topology\" screen. OpenShift will\\ndownload the source code and trigger your project’s build. Click on the Topology screen icon to see\\nthe \"Build\" section, indicating that a build is running. The compilation and deployment of your\\napplication can take some time, depending on the complexity of the source code and the\\nprogramming language used.\\nOnce the build has finished, on the same pane, you will see a route available under the \"Routes\"\\nsection. Click on it, and you will see your application in action.\\n10.2. Container Registry\\nOpenShift has built your application source code, and the product of this build process is a\\ncontainer. You can see the container that OpenShift made for you on the \"Administrator\"\\nperspective, selecting the \"Builds\" menu and then the \"ImageStreams\" menu entry.\\nOpenShift includes a container registry; developers can use it as any other registry from outside the\\ncluster. Let us use \"podman\" to access the container registry and run the container locally on your\\nworkstation.\\nUsers must have the \"registry-editor\" and the \"system:image-builder\" roles to access the container\\nregistry. Since we’re connected to the Web Console using the \"kubeadmin\" user, we can provide\\nthose roles directly from the user interface without using the command line.\\nNavigate to the \"User Management\" section and select \"RoleBindings.\" Click on the [\\u2009Create\\nbinding\\u2009] button, and fill the form using the following values:\\n• Name: developer-sourcecode-registry-editor\\n• Namespace: sourcecode\\n• Role name: registry-editor\\n• Subject: User\\n• Subject name: developer\\nDo the same for the \"system:image-builder\" role, using a different \"Name\" field\\nMetadata: {\\'document_id\\': \\'num-0\\'}\\n'</span>,\n",
       "<span style=\"color: #7fbf7f; text-decoration-color: #7fbf7f\">│   │   </span><span style=\"color: #808000; text-decoration-color: #808000\">type</span>=<span style=\"color: #008000; text-decoration-color: #008000\">'text'</span>\n",
       "<span style=\"color: #7fbf7f; text-decoration-color: #7fbf7f\">│   </span><span style=\"font-weight: bold\">)</span>,\n",
       "<span style=\"color: #7fbf7f; text-decoration-color: #7fbf7f\">│   </span><span style=\"color: #800080; text-decoration-color: #800080; font-weight: bold\">TextContentItem</span><span style=\"font-weight: bold\">(</span>\n",
       "<span style=\"color: #7fbf7f; text-decoration-color: #7fbf7f\">│   │   </span><span style=\"color: #808000; text-decoration-color: #808000\">text</span>=<span style=\"color: #008000; text-decoration-color: #008000\">\"Result 2\\nContent: 23\\ninstall OpenShift Local, 16\\nJ\\nJAR file, 23\\nJava, 14, 24, 44\\nJavaScript, 24, 44\\nJenkins, 28\\nK\\nKiali, 36\\nKibana, 40, 40\\nKnative, 34\\nKubernetes, 7\\nL\\nlogs, 40\\nM\\nMicroservices, 36\\nmonitor, 40\\nN\\nNode.js, 14\\nnon-root accounts, 20\\nO\\nOpenShift 4.12, 33\\nOpenShift Kubernetes Distribution, 8\\nOpenShift Service Mesh, 36\\noperator, 28, 36\\nOperatorHub, 33, 36\\nOperators, 33\\n48\\nP\\nperspectives, 22\\nPHP, 14, 24\\nPlatform-as-a-Service, 8\\nprivilege escalation, 19\\nprivileged ports, 20\\nProject, 9\\nPrometheus, 40, 44\\nPromQL, 45\\nPython, 14, 24, 44\\nQ\\nQuarkus, 14, 44\\nR\\nRed Hat developer account, 13\\nRed Hat OpenShift, 7\\nRed Hat OpenShift Dev Spaces, 14\\nRed Hat OpenShift Local, 8, 15\\nRed Hat OpenShift Pipelines, 28\\nRed Hat Quay, 20\\nRed Hat Universal Base Images, 19\\nrole, 19\\nRoute, 9\\nRust, 14\\nS\\nScala, 14\\nScaling, 42\\nsecure by default, 19\\nSecurity Context Constraints, 19\\nServerless, 34\\nservice mesh, 36\\nsource code project, 22\\nstateful applications, 33\\nT\\nTekton, 28\\ntemplates, 32\\nTopology, 27\\nTwelve-Factor App, 21, 40\\nTypeScript, 24\\nU\\nUBI, 19\\nV\\nVertical scaling, 42\\nVisual Studio Code, 14\\nW\\nWeb Console, 22, 40\\n49\\nMetadata: {'document_id': 'num-0'}\\n\"</span>,\n",
       "<span style=\"color: #7fbf7f; text-decoration-color: #7fbf7f\">│   │   </span><span style=\"color: #808000; text-decoration-color: #808000\">type</span>=<span style=\"color: #008000; text-decoration-color: #008000\">'text'</span>\n",
       "<span style=\"color: #7fbf7f; text-decoration-color: #7fbf7f\">│   </span><span style=\"font-weight: bold\">)</span>,\n",
       "<span style=\"color: #7fbf7f; text-decoration-color: #7fbf7f\">│   </span><span style=\"color: #800080; text-decoration-color: #800080; font-weight: bold\">TextContentItem</span><span style=\"font-weight: bold\">(</span>\n",
       "<span style=\"color: #7fbf7f; text-decoration-color: #7fbf7f\">│   │   </span><span style=\"color: #808000; text-decoration-color: #808000\">text</span>=<span style=\"color: #008000; text-decoration-color: #008000\">'Result 3\\nContent: .\\nThese characteristics set OpenShift apart as an excellent Kubernetes platform for enterprise users.\\nThe latest version of OpenShift available at the time of this writing is 4.12.\\n3.2. Is Red Hat OpenShift Open Source?\\nRed Hat OpenShift is a commercial product based on an open-source project called OKD. This\\nacronym means \" OpenShift Kubernetes Distribution\" and is publicly available for everyone to\\ninspect and contribute. Like the upstream Kubernetes project, OKD developers use the Go\\nprogramming language.\\n3.3. How can I run OpenShift?\\nToday, Red Hat OpenShift is available through various mechanisms and formats:\\n• DevOps teams can install it in their data centers \"on-premise.\"\\n• Major hyperscalers such as AWS, Azure, Google Cloud Platform, and IBM Cloud offer managed\\nRed Hat OpenShift installations.\\n• Developers can either run OpenShift locally on their workstations using Red Hat OpenShift\\nLocal, also known as CRC or \"Code-Ready Containers\"\\n• They can also request a 30-day trial OpenShift cluster, offered by Red Hat, at no charge, for\\ntesting and evaluation purposes.\\nRed Hat OpenShift is an integrated Platform-as-a-Service for enterprise users based on Kubernetes.\\nIt is tightly integrated with advanced security settings, developer tooling, and monitoring\\nmechanisms, allowing DevOps teams to be more productive.\\n8\\nChapter 4. OpenShift-only Custom Resource\\nDefinitions\\nRed Hat OpenShift is a complete DevOps platform extending Kubernetes in various ways. It bundles\\na constellation of Custom Resource Definitions (CRDs) to make the life of developers and cluster\\nadministrators easier.\\nLet us talk first about the CRDs only available on OpenShift.\\n4.1. Project\\nAn OpenShift Project is similar to a Kubernetes namespace, but more tightly integrated into the\\nsecurity system of OpenShift through additional annotations.\\napiVersion: project.openshift.io/v1\\nkind: Project\\nmetadata:\\n\\xa0 name: linkedin-learning-project\\n\\xa0 annotations:\\n\\xa0   openshift.io/description: \"Project description\"\\n\\xa0   openshift.io/display-name: \"Display name\"\\n4.2. Route\\nThe OpenShift Route object was one of the primary inspirations during the development of the\\nIngress object. In OpenShift, Ingress and Route objects work together to ensure your applications\\nare available outside the cluster.\\napiVersion: route.openshift.io/v1\\nkind: Route\\nmetadata:\\n\\xa0 name: my-route\\nspec:\\n\\xa0 host:\\nMetadata: {\\'document_id\\': \\'num-0\\'}\\n'</span>,\n",
       "<span style=\"color: #7fbf7f; text-decoration-color: #7fbf7f\">│   │   </span><span style=\"color: #808000; text-decoration-color: #808000\">type</span>=<span style=\"color: #008000; text-decoration-color: #008000\">'text'</span>\n",
       "<span style=\"color: #7fbf7f; text-decoration-color: #7fbf7f\">│   </span><span style=\"font-weight: bold\">)</span>,\n",
       "<span style=\"color: #7fbf7f; text-decoration-color: #7fbf7f\">│   </span><span style=\"color: #800080; text-decoration-color: #800080; font-weight: bold\">TextContentItem</span><span style=\"font-weight: bold\">(</span>\n",
       "<span style=\"color: #7fbf7f; text-decoration-color: #7fbf7f\">│   │   </span><span style=\"color: #808000; text-decoration-color: #808000\">text</span>=<span style=\"color: #008000; text-decoration-color: #008000\">'Result 4\\nContent:  We\\nrecommend you to check the official Red Hat OpenShift Local documentation for an updated list of\\nrequirements at the official documentation website.\\n\\uf05a\\nRegarding Linux, even if Red Hat does not officially support them, OpenShift Local\\ncan run on other distributions, such as Ubuntu or Debian, with minor caveats.\\nRunning OpenShift Local on any Linux distribution requires a few additional\\nsoftware packages to be installed through your default package manager. The\\n15\\ndocumentation at crc.dev/crc has more information about this subject.\\n7.2. Hardware Requirements\\nIn terms of hardware, OpenShift Local has some strict requirements. Your system must use a recent\\nIntel CPU (except for Macs, where Apple Silicon machines are supported) with at least four physical\\ncores and have at least 16 GB of RAM. Be aware that the base installation of OpenShift Local\\nrequires at least 9 GB free to start. Of course, to run other applications on OpenShift Local, you will\\nneed more RAM, so using a computer with at least 32 GB of RAM is strongly recommended.\\nOpenShift Local also requires at least 35 GB of free disk space for its installation. The memory\\nrequirements are likely to increase in the future, so please check the documentation at crc.dev for\\nmore up-to-date information.\\n7.3. Installation\\nTo install OpenShift Local, open your web browser and navigate to console.redhat.com/openshift/\\ncreate/local . Download the latest release of OpenShift Local and the \"pull secret\" file. The latter is a\\nfile containing a key identifying your copy of OpenShift Local to your Red Hat Developer account.\\nUnzip the file containing the OpenShift Local executable, and using your terminal, run the\\ncommand crc setup . This command will prepare your copy of OpenShift Local, verifying\\nrequirements and setting the required configuration values.\\nOnce the crc setup command is ready, launch crc start. Running crc start can take a long time,\\naround 20 minutes, on a recent PC.\\nOnce started, access the OpenShift Web Console with the crc console command, which will open\\nyour default browser. OpenShift Local uses the developer username and password to log in as a\\nlow-privilege user, while the kubeadmin user uses a random-generated password. Use the crc\\nconsole --credentials command to find the credentials required to log in as the kubeadmin user.\\nOpenShift Local allows developers to perform various everyday tasks as if it were a standard\\nOpenShift cluster, like deploying applications\\nMetadata: {\\'document_id\\': \\'num-0\\'}\\n'</span>,\n",
       "<span style=\"color: #7fbf7f; text-decoration-color: #7fbf7f\">│   │   </span><span style=\"color: #808000; text-decoration-color: #808000\">type</span>=<span style=\"color: #008000; text-decoration-color: #008000\">'text'</span>\n",
       "<span style=\"color: #7fbf7f; text-decoration-color: #7fbf7f\">│   </span><span style=\"font-weight: bold\">)</span>,\n",
       "<span style=\"color: #7fbf7f; text-decoration-color: #7fbf7f\">│   </span><span style=\"color: #800080; text-decoration-color: #800080; font-weight: bold\">TextContentItem</span><span style=\"font-weight: bold\">(</span>\n",
       "<span style=\"color: #7fbf7f; text-decoration-color: #7fbf7f\">│   │   </span><span style=\"color: #808000; text-decoration-color: #808000\">text</span>=<span style=\"color: #008000; text-decoration-color: #008000\">'Result 5\\nContent: _02 branch of the GitHub\\nrepository for this course.\\nThe whole point of OpenShift is to be able to deploy, run, and monitor containerized applications.\\nDevOps engineers can deploy containers in OpenShift clusters through various means, for example:\\n• Using a YAML manifest.\\n• Deploying a single container using the web console.\\n• Building a project stored in a Git repository anywhere on the Internet and deploying the\\nresulting container.\\n• Using the integrated CI/CD pipelines.\\n• Using the odo tool together with \"Devfiles.\"\\nEach approach has pros and cons; in this chapter, we will review how to use the web console and\\nhow to use the odo tool.\\n9.1. Deploying Applications with the Web Console\\nDevOps engineers can deploy applications immediately using the Web Console. Launch your CRC\\ninstance and open the web console in your preferred web browser. The URL of the OpenShift web\\nconsole is \"https://console-openshift-console.apps-crc.testing.\"\\nThe OpenShift Web Console offers two major perspectives:\\n• The \"Administrator\" perspective.\\n• And the \"Developer\" perspective.\\nFor this explanation, select the \"Developer\" perspective.\\nThe first time you open the Developer perspective, a popup invites you to follow a user interface\\ntour.\\nOn the left-hand side, the perspective menu shows an entry titled \"Add,\" which, as the name\\nimplies, provides various mechanisms to deploy applications on an OpenShift cluster.\\nThe \"Add\" screen shows the various ways DevOps engineers can deploy applications on a cluster:\\n• Using the Developer Catalog, browsing and choosing among a long list of available databases,\\nmessage queues, and other valuable components to build applications, or entering your\\npreferred Helm chart repository to extend the catalog.\\n• Specifying the URL to a specific container on any standard container registry.\\n• Specifying the URL of a source code project stored on a Git repository, for example, but not\\n22\\nlimited to GitHub, GitLab, Gitea, or other locations.\\n• Importing YAML directly or even a JAR file with a Java application.\\nLet us select the \"Container Image\" option, where we can specify the URL of a ready-to-use\\ncontainer.\\nEnter the URL of the container on the field, and click on the [\\u2009Create\\u2009] button at the bottom of the\\npage. You do not need to change any other value on the form.\\nA few seconds later, depending on the size of the container and the speed of your Internet\\nconnection,\\nMetadata: {\\'document_id\\': \\'num-0\\'}\\n'</span>,\n",
       "<span style=\"color: #7fbf7f; text-decoration-color: #7fbf7f\">│   │   </span><span style=\"color: #808000; text-decoration-color: #808000\">type</span>=<span style=\"color: #008000; text-decoration-color: #008000\">'text'</span>\n",
       "<span style=\"color: #7fbf7f; text-decoration-color: #7fbf7f\">│   </span><span style=\"font-weight: bold\">)</span>,\n",
       "<span style=\"color: #7fbf7f; text-decoration-color: #7fbf7f\">│   </span><span style=\"color: #800080; text-decoration-color: #800080; font-weight: bold\">TextContentItem</span><span style=\"font-weight: bold\">(</span><span style=\"color: #808000; text-decoration-color: #808000\">text</span>=<span style=\"color: #008000; text-decoration-color: #008000\">'END of knowledge_search tool results.\\n'</span>, <span style=\"color: #808000; text-decoration-color: #808000\">type</span>=<span style=\"color: #008000; text-decoration-color: #008000\">'text'</span><span style=\"font-weight: bold\">)</span>,\n",
       "<span style=\"color: #7fbf7f; text-decoration-color: #7fbf7f\">│   </span><span style=\"color: #800080; text-decoration-color: #800080; font-weight: bold\">TextContentItem</span><span style=\"font-weight: bold\">(</span>\n",
       "<span style=\"color: #7fbf7f; text-decoration-color: #7fbf7f\">│   │   </span><span style=\"color: #808000; text-decoration-color: #808000\">text</span>=<span style=\"color: #008000; text-decoration-color: #008000\">'The above results were retrieved to help answer the user\\'s query: \"How to install OpenShift\". Use them as supporting information only in answering this query.\\n'</span>,\n",
       "<span style=\"color: #7fbf7f; text-decoration-color: #7fbf7f\">│   │   </span><span style=\"color: #808000; text-decoration-color: #808000\">type</span>=<span style=\"color: #008000; text-decoration-color: #008000\">'text'</span>\n",
       "<span style=\"color: #7fbf7f; text-decoration-color: #7fbf7f\">│   </span><span style=\"font-weight: bold\">)</span>\n",
       "<span style=\"font-weight: bold\">]</span>\n",
       "</pre>\n"
      ],
      "text/plain": [
       "\u001b[1m[\u001b[0m\n",
       "\u001b[2;32m│   \u001b[0m\u001b[1;35mTextContentItem\u001b[0m\u001b[1m(\u001b[0m\n",
       "\u001b[2;32m│   │   \u001b[0m\u001b[33mtext\u001b[0m=\u001b[32m'knowledge_search tool found 5 chunks:\\nBEGIN of knowledge_search tool results.\\n'\u001b[0m,\n",
       "\u001b[2;32m│   │   \u001b[0m\u001b[33mtype\u001b[0m=\u001b[32m'text'\u001b[0m\n",
       "\u001b[2;32m│   \u001b[0m\u001b[1m)\u001b[0m,\n",
       "\u001b[2;32m│   \u001b[0m\u001b[1;35mTextContentItem\u001b[0m\u001b[1m(\u001b[0m\n",
       "\u001b[2;32m│   │   \u001b[0m\u001b[33mtext\u001b[0m=\u001b[32m'Result 1\\nContent:  \"Import from Git\" entry. Click on it, and paste the URL of a project, for example,\\ngitlab.com/akosma/simple-deno-api.git.\\nAs soon as you paste the URL, OpenShift will immediately analyze the structure and programming\\nlanguage of the project and automatically recommend options for its build process. In our case, it’s\\na small application built with the Go programming language, and as such, it will advise the options\\nshown on the screen.\\nFigure 5. Deploying a project directly from its Git repository\\n25\\nThis particular example doesn’t require more configurations than the ones shown on the screen;\\nclick the \u001b[0m\u001b[32m[\u001b[0m\u001b[32m\\u2009Create\\u2009\u001b[0m\u001b[32m]\u001b[0m\u001b[32m button.\\nAfter a few seconds, you will see your application running on the \"Topology\" screen. OpenShift will\\ndownload the source code and trigger your project’s build. Click on the Topology screen icon to see\\nthe \"Build\" section, indicating that a build is running. The compilation and deployment of your\\napplication can take some time, depending on the complexity of the source code and the\\nprogramming language used.\\nOnce the build has finished, on the same pane, you will see a route available under the \"Routes\"\\nsection. Click on it, and you will see your application in action.\\n10.2. Container Registry\\nOpenShift has built your application source code, and the product of this build process is a\\ncontainer. You can see the container that OpenShift made for you on the \"Administrator\"\\nperspective, selecting the \"Builds\" menu and then the \"ImageStreams\" menu entry.\\nOpenShift includes a container registry; developers can use it as any other registry from outside the\\ncluster. Let us use \"podman\" to access the container registry and run the container locally on your\\nworkstation.\\nUsers must have the \"registry-editor\" and the \"system:image-builder\" roles to access the container\\nregistry. Since we’re connected to the Web Console using the \"kubeadmin\" user, we can provide\\nthose roles directly from the user interface without using the command line.\\nNavigate to the \"User Management\" section and select \"RoleBindings.\" Click on the \u001b[0m\u001b[32m[\u001b[0m\u001b[32m\\u2009Create\\nbinding\\u2009\u001b[0m\u001b[32m]\u001b[0m\u001b[32m button, and fill the form using the following values:\\n• Name: developer-sourcecode-registry-editor\\n• Namespace: sourcecode\\n• Role name: registry-editor\\n• Subject: User\\n• Subject name: developer\\nDo the same for the \"system:image-builder\" role, using a different \"Name\" field\\nMetadata: \u001b[0m\u001b[32m{\u001b[0m\u001b[32m\\'document_id\\': \\'num-0\\'\u001b[0m\u001b[32m}\u001b[0m\u001b[32m\\n'\u001b[0m,\n",
       "\u001b[2;32m│   │   \u001b[0m\u001b[33mtype\u001b[0m=\u001b[32m'text'\u001b[0m\n",
       "\u001b[2;32m│   \u001b[0m\u001b[1m)\u001b[0m,\n",
       "\u001b[2;32m│   \u001b[0m\u001b[1;35mTextContentItem\u001b[0m\u001b[1m(\u001b[0m\n",
       "\u001b[2;32m│   │   \u001b[0m\u001b[33mtext\u001b[0m=\u001b[32m\"Result\u001b[0m\u001b[32m 2\\nContent: 23\\ninstall OpenShift Local, 16\\nJ\\nJAR file, 23\\nJava, 14, 24, 44\\nJavaScript, 24, 44\\nJenkins, 28\\nK\\nKiali, 36\\nKibana, 40, 40\\nKnative, 34\\nKubernetes, 7\\nL\\nlogs, 40\\nM\\nMicroservices, 36\\nmonitor, 40\\nN\\nNode.js, 14\\nnon-root accounts, 20\\nO\\nOpenShift 4.12, 33\\nOpenShift Kubernetes Distribution, 8\\nOpenShift Service Mesh, 36\\noperator, 28, 36\\nOperatorHub, 33, 36\\nOperators, 33\\n48\\nP\\nperspectives, 22\\nPHP, 14, 24\\nPlatform-as-a-Service, 8\\nprivilege escalation, 19\\nprivileged ports, 20\\nProject, 9\\nPrometheus, 40, 44\\nPromQL, 45\\nPython, 14, 24, 44\\nQ\\nQuarkus, 14, 44\\nR\\nRed Hat developer account, 13\\nRed Hat OpenShift, 7\\nRed Hat OpenShift Dev Spaces, 14\\nRed Hat OpenShift Local, 8, 15\\nRed Hat OpenShift Pipelines, 28\\nRed Hat Quay, 20\\nRed Hat Universal Base Images, 19\\nrole, 19\\nRoute, 9\\nRust, 14\\nS\\nScala, 14\\nScaling, 42\\nsecure by default, 19\\nSecurity Context Constraints, 19\\nServerless, 34\\nservice mesh, 36\\nsource code project, 22\\nstateful applications, 33\\nT\\nTekton, 28\\ntemplates, 32\\nTopology, 27\\nTwelve-Factor App, 21, 40\\nTypeScript, 24\\nU\\nUBI, 19\\nV\\nVertical scaling, 42\\nVisual Studio Code, 14\\nW\\nWeb Console, 22, 40\\n49\\nMetadata: \u001b[0m\u001b[32m{\u001b[0m\u001b[32m'document_id': 'num-0'\u001b[0m\u001b[32m}\u001b[0m\u001b[32m\\n\"\u001b[0m,\n",
       "\u001b[2;32m│   │   \u001b[0m\u001b[33mtype\u001b[0m=\u001b[32m'text'\u001b[0m\n",
       "\u001b[2;32m│   \u001b[0m\u001b[1m)\u001b[0m,\n",
       "\u001b[2;32m│   \u001b[0m\u001b[1;35mTextContentItem\u001b[0m\u001b[1m(\u001b[0m\n",
       "\u001b[2;32m│   │   \u001b[0m\u001b[33mtext\u001b[0m=\u001b[32m'Result 3\\nContent: .\\nThese characteristics set OpenShift apart as an excellent Kubernetes platform for enterprise users.\\nThe latest version of OpenShift available at the time of this writing is 4.12.\\n3.2. Is Red Hat OpenShift Open Source?\\nRed Hat OpenShift is a commercial product based on an open-source project called OKD. This\\nacronym means \" OpenShift Kubernetes Distribution\" and is publicly available for everyone to\\ninspect and contribute. Like the upstream Kubernetes project, OKD developers use the Go\\nprogramming language.\\n3.3. How can I run OpenShift?\\nToday, Red Hat OpenShift is available through various mechanisms and formats:\\n• DevOps teams can install it in their data centers \"on-premise.\"\\n• Major hyperscalers such as AWS, Azure, Google Cloud Platform, and IBM Cloud offer managed\\nRed Hat OpenShift installations.\\n• Developers can either run OpenShift locally on their workstations using Red Hat OpenShift\\nLocal, also known as CRC or \"Code-Ready Containers\"\\n• They can also request a 30-day trial OpenShift cluster, offered by Red Hat, at no charge, for\\ntesting and evaluation purposes.\\nRed Hat OpenShift is an integrated Platform-as-a-Service for enterprise users based on Kubernetes.\\nIt is tightly integrated with advanced security settings, developer tooling, and monitoring\\nmechanisms, allowing DevOps teams to be more productive.\\n8\\nChapter 4. OpenShift-only Custom Resource\\nDefinitions\\nRed Hat OpenShift is a complete DevOps platform extending Kubernetes in various ways. It bundles\\na constellation of Custom Resource Definitions \u001b[0m\u001b[32m(\u001b[0m\u001b[32mCRDs\u001b[0m\u001b[32m)\u001b[0m\u001b[32m to make the life of developers and cluster\\nadministrators easier.\\nLet us talk first about the CRDs only available on OpenShift.\\n4.1. Project\\nAn OpenShift Project is similar to a Kubernetes namespace, but more tightly integrated into the\\nsecurity system of OpenShift through additional annotations.\\napiVersion: project.openshift.io/v1\\nkind: Project\\nmetadata:\\n\\xa0 name: linkedin-learning-project\\n\\xa0 annotations:\\n\\xa0   openshift.io/description: \"Project description\"\\n\\xa0   openshift.io/display-name: \"Display name\"\\n4.2. Route\\nThe OpenShift Route object was one of the primary inspirations during the development of the\\nIngress object. In OpenShift, Ingress and Route objects work together to ensure your applications\\nare available outside the cluster.\\napiVersion: route.openshift.io/v1\\nkind: Route\\nmetadata:\\n\\xa0 name: my-route\\nspec:\\n\\xa0 host:\\nMetadata: \u001b[0m\u001b[32m{\u001b[0m\u001b[32m\\'document_id\\': \\'num-0\\'\u001b[0m\u001b[32m}\u001b[0m\u001b[32m\\n'\u001b[0m,\n",
       "\u001b[2;32m│   │   \u001b[0m\u001b[33mtype\u001b[0m=\u001b[32m'text'\u001b[0m\n",
       "\u001b[2;32m│   \u001b[0m\u001b[1m)\u001b[0m,\n",
       "\u001b[2;32m│   \u001b[0m\u001b[1;35mTextContentItem\u001b[0m\u001b[1m(\u001b[0m\n",
       "\u001b[2;32m│   │   \u001b[0m\u001b[33mtext\u001b[0m=\u001b[32m'Result 4\\nContent:  We\\nrecommend you to check the official Red Hat OpenShift Local documentation for an updated list of\\nrequirements at the official documentation website.\\n\\uf05a\\nRegarding Linux, even if Red Hat does not officially support them, OpenShift Local\\ncan run on other distributions, such as Ubuntu or Debian, with minor caveats.\\nRunning OpenShift Local on any Linux distribution requires a few additional\\nsoftware packages to be installed through your default package manager. The\\n15\\ndocumentation at crc.dev/crc has more information about this subject.\\n7.2. Hardware Requirements\\nIn terms of hardware, OpenShift Local has some strict requirements. Your system must use a recent\\nIntel CPU \u001b[0m\u001b[32m(\u001b[0m\u001b[32mexcept for Macs, where Apple Silicon machines are supported\u001b[0m\u001b[32m)\u001b[0m\u001b[32m with at least four physical\\ncores and have at least 16 GB of RAM. Be aware that the base installation of OpenShift Local\\nrequires at least 9 GB free to start. Of course, to run other applications on OpenShift Local, you will\\nneed more RAM, so using a computer with at least 32 GB of RAM is strongly recommended.\\nOpenShift Local also requires at least 35 GB of free disk space for its installation. The memory\\nrequirements are likely to increase in the future, so please check the documentation at crc.dev for\\nmore up-to-date information.\\n7.3. Installation\\nTo install OpenShift Local, open your web browser and navigate to console.redhat.com/openshift/\\ncreate/local . Download the latest release of OpenShift Local and the \"pull secret\" file. The latter is a\\nfile containing a key identifying your copy of OpenShift Local to your Red Hat Developer account.\\nUnzip the file containing the OpenShift Local executable, and using your terminal, run the\\ncommand crc setup . This command will prepare your copy of OpenShift Local, verifying\\nrequirements and setting the required configuration values.\\nOnce the crc setup command is ready, launch crc start. Running crc start can take a long time,\\naround 20 minutes, on a recent PC.\\nOnce started, access the OpenShift Web Console with the crc console command, which will open\\nyour default browser. OpenShift Local uses the developer username and password to log in as a\\nlow-privilege user, while the kubeadmin user uses a random-generated password. Use the crc\\nconsole --credentials command to find the credentials required to log in as the kubeadmin user.\\nOpenShift Local allows developers to perform various everyday tasks as if it were a standard\\nOpenShift cluster, like deploying applications\\nMetadata: \u001b[0m\u001b[32m{\u001b[0m\u001b[32m\\'document_id\\': \\'num-0\\'\u001b[0m\u001b[32m}\u001b[0m\u001b[32m\\n'\u001b[0m,\n",
       "\u001b[2;32m│   │   \u001b[0m\u001b[33mtype\u001b[0m=\u001b[32m'text'\u001b[0m\n",
       "\u001b[2;32m│   \u001b[0m\u001b[1m)\u001b[0m,\n",
       "\u001b[2;32m│   \u001b[0m\u001b[1;35mTextContentItem\u001b[0m\u001b[1m(\u001b[0m\n",
       "\u001b[2;32m│   │   \u001b[0m\u001b[33mtext\u001b[0m=\u001b[32m'Result 5\\nContent: _02 branch of the GitHub\\nrepository for this course.\\nThe whole point of OpenShift is to be able to deploy, run, and monitor containerized applications.\\nDevOps engineers can deploy containers in OpenShift clusters through various means, for example:\\n• Using a YAML manifest.\\n• Deploying a single container using the web console.\\n• Building a project stored in a Git repository anywhere on the Internet and deploying the\\nresulting container.\\n• Using the integrated CI/CD pipelines.\\n• Using the odo tool together with \"Devfiles.\"\\nEach approach has pros and cons; in this chapter, we will review how to use the web console and\\nhow to use the odo tool.\\n9.1. Deploying Applications with the Web Console\\nDevOps engineers can deploy applications immediately using the Web Console. Launch your CRC\\ninstance and open the web console in your preferred web browser. The URL of the OpenShift web\\nconsole is \"https://console-openshift-console.apps-crc.testing.\"\\nThe OpenShift Web Console offers two major perspectives:\\n• The \"Administrator\" perspective.\\n• And the \"Developer\" perspective.\\nFor this explanation, select the \"Developer\" perspective.\\nThe first time you open the Developer perspective, a popup invites you to follow a user interface\\ntour.\\nOn the left-hand side, the perspective menu shows an entry titled \"Add,\" which, as the name\\nimplies, provides various mechanisms to deploy applications on an OpenShift cluster.\\nThe \"Add\" screen shows the various ways DevOps engineers can deploy applications on a cluster:\\n• Using the Developer Catalog, browsing and choosing among a long list of available databases,\\nmessage queues, and other valuable components to build applications, or entering your\\npreferred Helm chart repository to extend the catalog.\\n• Specifying the URL to a specific container on any standard container registry.\\n• Specifying the URL of a source code project stored on a Git repository, for example, but not\\n22\\nlimited to GitHub, GitLab, Gitea, or other locations.\\n• Importing YAML directly or even a JAR file with a Java application.\\nLet us select the \"Container Image\" option, where we can specify the URL of a ready-to-use\\ncontainer.\\nEnter the URL of the container on the field, and click on the \u001b[0m\u001b[32m[\u001b[0m\u001b[32m\\u2009Create\\u2009\u001b[0m\u001b[32m]\u001b[0m\u001b[32m button at the bottom of the\\npage. You do not need to change any other value on the form.\\nA few seconds later, depending on the size of the container and the speed of your Internet\\nconnection,\\nMetadata: \u001b[0m\u001b[32m{\u001b[0m\u001b[32m\\'document_id\\': \\'num-0\\'\u001b[0m\u001b[32m}\u001b[0m\u001b[32m\\n'\u001b[0m,\n",
       "\u001b[2;32m│   │   \u001b[0m\u001b[33mtype\u001b[0m=\u001b[32m'text'\u001b[0m\n",
       "\u001b[2;32m│   \u001b[0m\u001b[1m)\u001b[0m,\n",
       "\u001b[2;32m│   \u001b[0m\u001b[1;35mTextContentItem\u001b[0m\u001b[1m(\u001b[0m\u001b[33mtext\u001b[0m=\u001b[32m'END of knowledge_search tool results.\\n'\u001b[0m, \u001b[33mtype\u001b[0m=\u001b[32m'text'\u001b[0m\u001b[1m)\u001b[0m,\n",
       "\u001b[2;32m│   \u001b[0m\u001b[1;35mTextContentItem\u001b[0m\u001b[1m(\u001b[0m\n",
       "\u001b[2;32m│   │   \u001b[0m\u001b[33mtext\u001b[0m=\u001b[32m'The above results were retrieved to help answer the user\\'s query: \"How to install OpenShift\". Use them as supporting information only in answering this query.\\n'\u001b[0m,\n",
       "\u001b[2;32m│   │   \u001b[0m\u001b[33mtype\u001b[0m=\u001b[32m'text'\u001b[0m\n",
       "\u001b[2;32m│   \u001b[0m\u001b[1m)\u001b[0m\n",
       "\u001b[1m]\u001b[0m\n"
      ]
     },
     "metadata": {},
     "output_type": "display_data"
    },
    {
     "name": "stdout",
     "output_type": "stream",
     "text": [
      "\n",
      "---------- 📍 Step 3: InferenceStep ----------\n",
      "🤖 Model Response:\n",
      "\u001b[35m<think>\n",
      "Okay, the user is asking how to install OpenShift. Let me look through the provided knowledge search results to find the relevant information.\n",
      "\n",
      "First, in Result 3, there's a section about running OpenShift. It mentions that OpenShift can be installed on-premise, via managed services on cloud providers, or locally using Red Hat OpenShift Local (CRC). That's a good starting point. The user might be interested in the local installation, so I should focus on that.\n",
      "\n",
      "Result 4 has detailed steps for installing OpenShift Local. It lists the requirements like hardware specifications (4 cores, 16GB RAM, 35GB disk space) and mentions the installation process. The steps include downloading from the Red Hat website, using the pull secret, and running commands like 'crc setup' and 'crc start'. This seems crucial for the answer.\n",
      "\n",
      "Result 1 talks about deploying projects from Git, but that's more about using OpenShift after installation. Result 5 also discusses deploying apps via the web console, which is post-installation. So those might not be necessary for the installation steps but could be useful for follow-up.\n",
      "\n",
      "The user might need to know the different installation options first. Then, for each option, provide a brief overview. Since the detailed steps for CRC are in Result 4, I should outline those steps clearly. Also, mention the hardware and software requirements from Result 4 to ensure the user is prepared.\n",
      "\n",
      "I should check if there are other installation methods mentioned. Result 3 mentions on-premise and managed services, but the detailed steps are only for CRC. The answer should cover the main methods but provide the most detailed steps for the local installation since that's likely what a user asking \"how to install\" would need.\n",
      "\n",
      "Make sure to include the official documentation references, like crc.dev/crc and console.redhat.com, as per Result 4. Also, note that the installation process can take around 20 minutes, which sets the right expectations.\n",
      "\n",
      "Putting it all together: start by listing the installation options, then focus on OpenShift Local with requirements and step-by-step instructions. Mention other methods briefly and suggest checking official docs for more details. Avoid including post-installation steps unless necessary, but maybe mention accessing the web console after installation as part of the process.\n",
      "</think>\n",
      "\n",
      "To install OpenShift, you can choose from several methods depending on your use case. Below is a structured guide based on the available information:\n",
      "\n",
      "---\n",
      "\n",
      "### **1. OpenShift Installation Options**\n",
      "- **On-Premise**: Install in your data center using standard OpenShift installation procedures.\n",
      "- **Managed Cloud Services**: Use managed Red Hat OpenShift clusters on AWS, Azure, Google Cloud, or IBM Cloud.\n",
      "- **Local Development (OpenShift Local / CRC)**: Run OpenShift locally on your workstation for development/testing.\n",
      "- **Trial Cluster**: Request a 30-day free trial cluster from Red Hat.\n",
      "\n",
      "---\n",
      "\n",
      "### **2. Installing OpenShift Local (CRC)**\n",
      "This method is ideal for developers wanting to run OpenShift locally.\n",
      "\n",
      "#### **Requirements**\n",
      "- **Hardware**:\n",
      "  - 4+ physical CPU cores.\n",
      "  - 16 GB RAM (minimum), 32 GB recommended.\n",
      "  - 35 GB free disk space.\n",
      "- **Software**:\n",
      "  - Supported OS: Linux (Red Hat/CentOS/Fedora), macOS (Apple Silicon), or Windows.\n",
      "  - For Linux, ensure additional packages are installed (check [CRC documentation](https://crc.dev/crc)).\n",
      "\n",
      "#### **Steps**\n",
      "1. **Download OpenShift Local**:\n",
      "   - Visit [Red Hat OpenShift Local download page](https://console.redhat.com/openshift/create/local).\n",
      "   - Download the latest release and the **pull secret** file (requires a Red Hat Developer account).\n",
      "\n",
      "2. **Set Up and Start CRC**:\n",
      "   - Unzip the downloaded file.\n",
      "   - Run the following commands in your terminal:\n",
      "     ```bash\n",
      "     crc setup          # Prepares CRC (checks requirements and configures settings).\n",
      "     crc start          # Starts the OpenShift cluster (may take ~20 minutes).\n",
      "     ```\n",
      "   - After startup, access the web console with:\n",
      "     ```bash\n",
      "     crc console        # Opens the OpenShift Web Console in your browser.\n",
      "     ```\n",
      "\n",
      "3. **Login Credentials**:\n",
      "   - Use the `developer` user (password: `developer`).\n",
      "   - For admin access, retrieve `kubeadmin` credentials:\n",
      "     ```bash\n",
      "     crc console --credentials\n",
      "     ```\n",
      "\n",
      "---\n",
      "\n",
      "### **3. Other Installation Methods**\n",
      "- **Using the Web Console**: For deploying applications post-installation (not installation itself).\n",
      "- **YAML Manifests**: For advanced users to define cluster configurations.\n",
      "- **odo Tool**: For DevOps workflows with Devfiles (requires OpenShift cluster already running).\n",
      "\n",
      "---\n",
      "\n",
      "### **4. Post-Installation**\n",
      "- **Access Web Console**: `https://console-openshift-console.apps-crc.testing` (for CRC).\n",
      "- **Deploy Applications**:\n",
      "  - Use the **Developer Perspective** to deploy from Git, container images, or YAML.\n",
      "  - Example: Deploy from Git by pasting a repository URL (e.g., `gitlab.com/akosma/simple-deno-api.git`).\n",
      "\n",
      "---\n",
      "\n",
      "### **5. Official Documentation**\n",
      "- [OpenShift Local (CRC) Documentation](https://crc.dev/crc)\n",
      "- [Red Hat OpenShift Installation Guides](https://docs.openshift.com)\n",
      "\n",
      "---\n",
      "\n",
      "For enterprise or production environments, consult Red Hat’s official documentation or use managed cloud services. For local development, CRC is the recommended approach.\n",
      "\u001b[0m\n",
      "========== Query processing completed ========== \n",
      "\n"
     ]
    }
   ],
   "source": [
    "queries = [\n",
    "    \"How to install OpenShift?\",\n",
    "]\n",
    "\n",
    "# initializing the agent\n",
    "agent = Agent(\n",
    "    client,\n",
    "    model=model_id,\n",
    "    instructions=\"You are a helpful assistant. You must use the knowledge search tool to answer user questions.\",\n",
    "    sampling_params=sampling_params,\n",
    "    # we make our agent aware of the RAG tool by including builtin::rag/knowledge_search in the list of tools\n",
    "    tools=[\n",
    "        dict(\n",
    "            name=\"builtin::rag\",\n",
    "            args={\n",
    "                \"vector_db_ids\": [vector_db_id],  # list of IDs of document collections to consider during retrieval\n",
    "            },\n",
    "        )\n",
    "    ],\n",
    ")\n",
    "\n",
    "for prompt in queries:\n",
    "    cprint(f\"\\nUser> {prompt}\", \"blue\")\n",
    "    \n",
    "    # create a new turn with a new session ID for each prompt\n",
    "    response = agent.create_turn(\n",
    "        messages=[\n",
    "            {\n",
    "                \"role\": \"user\",\n",
    "                \"content\": prompt,\n",
    "            }\n",
    "        ],\n",
    "        session_id=agent.create_session(f\"rag-session_{uuid.uuid4()}\"),\n",
    "        stream=stream,\n",
    "    )\n",
    "    \n",
    "    # print the response, including tool calls output\n",
    "    if stream:\n",
    "        for log in EventLogger().log(response):\n",
    "            log.print()\n",
    "    else:\n",
    "        step_printer(response.steps)"
   ]
  },
  {
   "cell_type": "markdown",
   "id": "df6937a3-3efa-4b66-aaf0-85d96b6d43db",
   "metadata": {},
   "source": [
    "## Key Takeaways\n",
    "This notebook demonstrated how to implement a RAG agent with Llama Stack. We did this by creating an agent and giving it access to the builtin RAG tool, then invoking the agent on the specified query.\n",
    "\n",
    "Now let's move on to discuss another type of tool we can use to further enhance our models capabilities, MCP Servers, in the next notebook: [Agents and MCP Servers](./Level5_agents_and_mcp.ipynb)"
   ]
  },
  {
   "cell_type": "markdown",
   "id": "6dc0fc00",
   "metadata": {},
   "source": [
    "#### Any Feedback?\n",
    "\n",
    "If you have any feedback on this or any other notebook in this demo series we'd love to hear it! Please go to https://www.feedback.redhat.com/jfe/form/SV_8pQsoy0U9Ccqsvk and help us improve our demos. "
   ]
  },
  {
   "cell_type": "code",
   "execution_count": null,
   "id": "e305a91b-94af-4815-8570-1dcf4e7db9de",
   "metadata": {},
   "outputs": [],
   "source": []
  }
 ],
 "metadata": {
  "kernelspec": {
   "display_name": "Python 3.11",
   "language": "python",
   "name": "python3"
  },
  "language_info": {
   "codemirror_mode": {
    "name": "ipython",
    "version": 3
   },
   "file_extension": ".py",
   "mimetype": "text/x-python",
   "name": "python",
   "nbconvert_exporter": "python",
   "pygments_lexer": "ipython3",
   "version": "3.11.11"
  }
 },
 "nbformat": 4,
 "nbformat_minor": 5
}
